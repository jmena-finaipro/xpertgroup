{
 "cells": [
  {
   "cell_type": "code",
   "execution_count": 3,
   "id": "7d19444c-83a1-4890-9d47-95df472fdc67",
   "metadata": {},
   "outputs": [],
   "source": [
    "import pandas as pd\n",
    "import seaborn as sns\n",
    "import matplotlib.pyplot as plt\n"
   ]
  },
  {
   "cell_type": "code",
   "execution_count": 5,
   "id": "23c404fa-7a7d-4b53-8a38-00d0d44c3789",
   "metadata": {},
   "outputs": [],
   "source": [
    "#Leer los datos y llevarlos a un data frame\n",
    "df = pd.read_csv(\"data/raw/clothes_price_prediction_dat.csv\")"
   ]
  },
  {
   "cell_type": "code",
   "execution_count": null,
   "id": "26f0d203-8560-45fc-93f4-e7689958ae17",
   "metadata": {},
   "outputs": [],
   "source": []
  }
 ],
 "metadata": {
  "kernelspec": {
   "display_name": "Python (venv)",
   "language": "python",
   "name": "venv"
  },
  "language_info": {
   "codemirror_mode": {
    "name": "ipython",
    "version": 3
   },
   "file_extension": ".py",
   "mimetype": "text/x-python",
   "name": "python",
   "nbconvert_exporter": "python",
   "pygments_lexer": "ipython3",
   "version": "3.9.6"
  }
 },
 "nbformat": 4,
 "nbformat_minor": 5
}
